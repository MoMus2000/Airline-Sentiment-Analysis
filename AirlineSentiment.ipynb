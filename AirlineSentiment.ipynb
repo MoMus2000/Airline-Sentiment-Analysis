{
  "nbformat": 4,
  "nbformat_minor": 0,
  "metadata": {
    "colab": {
      "name": "AirlineSentiment.ipynb",
      "provenance": [],
      "authorship_tag": "ABX9TyNl8dfHRCccHGFkBzCBjFhu",
      "include_colab_link": true
    },
    "kernelspec": {
      "name": "python3",
      "display_name": "Python 3"
    },
    "accelerator": "TPU"
  },
  "cells": [
    {
      "cell_type": "markdown",
      "metadata": {
        "id": "view-in-github",
        "colab_type": "text"
      },
      "source": [
        "<a href=\"https://colab.research.google.com/github/MoMus2000/Airline-Sentiment-Analysis/blob/master/AirlineSentiment.ipynb\" target=\"_parent\"><img src=\"https://colab.research.google.com/assets/colab-badge.svg\" alt=\"Open In Colab\"/></a>"
      ]
    },
    {
      "cell_type": "code",
      "metadata": {
        "id": "FJdcK2kk3o-U",
        "colab_type": "code",
        "colab": {}
      },
      "source": [
        "import pandas as pd\n",
        "import numpy as np\n",
        "import tensorflow as tf\n",
        "from tensorflow.keras.preprocessing.text import Tokenizer\n",
        "from tensorflow.keras.preprocessing.sequence import pad_sequences\n",
        "from tensorflow.keras.layers import Dense, Dropout, Embedding, LSTM, Bidirectional\n",
        "from tensorflow.keras.models import Sequential\n",
        "from tensorflow.keras.layers import Embedding\n",
        "from sklearn.model_selection import train_test_split\n",
        "from sklearn.preprocessing import LabelEncoder\n",
        "from tensorflow.keras.utils import to_categorical\n",
        "df = pd.read_csv('/content/Tweets (1).csv')\n"
      ],
      "execution_count": 116,
      "outputs": []
    },
    {
      "cell_type": "code",
      "metadata": {
        "id": "prekRfhA4FaW",
        "colab_type": "code",
        "colab": {}
      },
      "source": [
        "\n",
        "df['airline_sentiment']=df['airline_sentiment'].str.replace('positive','0')\n",
        "df['airline_sentiment']=df['airline_sentiment'].str.replace('negative','1')\n",
        "df['airline_sentiment']=df['airline_sentiment'].str.replace('neutral','2')\n",
        "\n",
        "sentences = []\n",
        "labels = []\n",
        "size = 2000\n",
        "\n",
        "for s in df['text'].to_numpy():\n",
        "    sentences.append(s)\n",
        "\n",
        "for l in df['airline_sentiment'].to_numpy():\n",
        "    labels.append(l)\n",
        "\n",
        "training_sentences = sentences\n",
        "training_labels = labels\n"
      ],
      "execution_count": 115,
      "outputs": []
    },
    {
      "cell_type": "code",
      "metadata": {
        "id": "7Dh0E3HC4GGe",
        "colab_type": "code",
        "colab": {
          "base_uri": "https://localhost:8080/",
          "height": 187
        },
        "outputId": "c2044841-ff64-4617-ad12-de5648efb12b"
      },
      "source": [
        "vocab_size = 10000\n",
        "embedding_dim = 100\n",
        "max_length = 120\n",
        "trunc_type='post'\n",
        "padding_type='post'\n",
        "oov_tok = \"<OOV>\"\n",
        "tokenizer = Tokenizer(num_words=vocab_size, oov_token=oov_tok)\n",
        "tokenizer.fit_on_texts(training_sentences)\n",
        "\n",
        "word_index = tokenizer.word_index\n",
        "\n",
        "training_sequences = tokenizer.texts_to_sequences(training_sentences)\n",
        "print(len(training_sequences))\n",
        "training_padded = pad_sequences(training_sequences, maxlen=max_length, padding=padding_type, truncating=trunc_type)\n",
        "\n",
        "x = training_padded[0]\n",
        "print(x)"
      ],
      "execution_count": 118,
      "outputs": [
        {
          "output_type": "stream",
          "text": [
            "14640\n",
            "[  14  288    8   12 2115   64    7   39    3 1306   41 1248   21    8\n",
            "   27  469   11    4  113   22  528 2537   21  786   19  133    0    0\n",
            "    0    0    0    0    0    0    0    0    0    0    0    0    0    0\n",
            "    0    0    0    0    0    0    0    0    0    0    0    0    0    0\n",
            "    0    0    0    0    0    0    0    0    0    0    0    0    0    0\n",
            "    0    0    0    0    0    0    0    0    0    0    0    0    0    0\n",
            "    0    0    0    0    0    0    0    0    0    0    0    0    0    0\n",
            "    0    0    0    0    0    0    0    0    0    0    0    0    0    0\n",
            "    0    0    0    0    0    0    0    0]\n"
          ],
          "name": "stdout"
        }
      ]
    },
    {
      "cell_type": "code",
      "metadata": {
        "id": "kfxuiGCqYPBO",
        "colab_type": "code",
        "colab": {
          "base_uri": "https://localhost:8080/",
          "height": 768
        },
        "outputId": "8e3e4597-67ed-484a-a5f7-8406f1a6716d"
      },
      "source": [
        "try:\n",
        "  tpu = tf.distribute.cluster_resolver.TPUClusterResolver()\n",
        "  print('Running on TPU',tpu.cluster_spec().as_dict()['worker'])\n",
        "except ValueError:\n",
        "  raise BaseException('ERROR NOT CONNECTED to TPU runtime')\n",
        "\n",
        "tf.config.experimental_connect_to_cluster(tpu)\n",
        "tf.tpu.experimental.initialize_tpu_system(tpu)\n",
        "tpu_strategy = tf.distribute.experimental.TPUStrategy(tpu)"
      ],
      "execution_count": 102,
      "outputs": [
        {
          "output_type": "stream",
          "text": [
            "Running on TPU ['10.57.42.234:8470']\n",
            "WARNING:tensorflow:TPU system grpc://10.57.42.234:8470 has already been initialized. Reinitializing the TPU can cause previously created variables on TPU to be lost.\n"
          ],
          "name": "stdout"
        },
        {
          "output_type": "stream",
          "text": [
            "WARNING:tensorflow:TPU system grpc://10.57.42.234:8470 has already been initialized. Reinitializing the TPU can cause previously created variables on TPU to be lost.\n"
          ],
          "name": "stderr"
        },
        {
          "output_type": "stream",
          "text": [
            "INFO:tensorflow:Initializing the TPU system: grpc://10.57.42.234:8470\n"
          ],
          "name": "stdout"
        },
        {
          "output_type": "stream",
          "text": [
            "INFO:tensorflow:Initializing the TPU system: grpc://10.57.42.234:8470\n"
          ],
          "name": "stderr"
        },
        {
          "output_type": "stream",
          "text": [
            "INFO:tensorflow:Clearing out eager caches\n"
          ],
          "name": "stdout"
        },
        {
          "output_type": "stream",
          "text": [
            "INFO:tensorflow:Clearing out eager caches\n"
          ],
          "name": "stderr"
        },
        {
          "output_type": "stream",
          "text": [
            "INFO:tensorflow:Finished initializing TPU system.\n"
          ],
          "name": "stdout"
        },
        {
          "output_type": "stream",
          "text": [
            "INFO:tensorflow:Finished initializing TPU system.\n"
          ],
          "name": "stderr"
        },
        {
          "output_type": "stream",
          "text": [
            "INFO:tensorflow:Found TPU system:\n"
          ],
          "name": "stdout"
        },
        {
          "output_type": "stream",
          "text": [
            "INFO:tensorflow:Found TPU system:\n"
          ],
          "name": "stderr"
        },
        {
          "output_type": "stream",
          "text": [
            "INFO:tensorflow:*** Num TPU Cores: 8\n"
          ],
          "name": "stdout"
        },
        {
          "output_type": "stream",
          "text": [
            "INFO:tensorflow:*** Num TPU Cores: 8\n"
          ],
          "name": "stderr"
        },
        {
          "output_type": "stream",
          "text": [
            "INFO:tensorflow:*** Num TPU Workers: 1\n"
          ],
          "name": "stdout"
        },
        {
          "output_type": "stream",
          "text": [
            "INFO:tensorflow:*** Num TPU Workers: 1\n"
          ],
          "name": "stderr"
        },
        {
          "output_type": "stream",
          "text": [
            "INFO:tensorflow:*** Num TPU Cores Per Worker: 8\n"
          ],
          "name": "stdout"
        },
        {
          "output_type": "stream",
          "text": [
            "INFO:tensorflow:*** Num TPU Cores Per Worker: 8\n"
          ],
          "name": "stderr"
        },
        {
          "output_type": "stream",
          "text": [
            "INFO:tensorflow:*** Available Device: _DeviceAttributes(/job:localhost/replica:0/task:0/device:CPU:0, CPU, 0, 0)\n"
          ],
          "name": "stdout"
        },
        {
          "output_type": "stream",
          "text": [
            "INFO:tensorflow:*** Available Device: _DeviceAttributes(/job:localhost/replica:0/task:0/device:CPU:0, CPU, 0, 0)\n"
          ],
          "name": "stderr"
        },
        {
          "output_type": "stream",
          "text": [
            "INFO:tensorflow:*** Available Device: _DeviceAttributes(/job:localhost/replica:0/task:0/device:XLA_CPU:0, XLA_CPU, 0, 0)\n"
          ],
          "name": "stdout"
        },
        {
          "output_type": "stream",
          "text": [
            "INFO:tensorflow:*** Available Device: _DeviceAttributes(/job:localhost/replica:0/task:0/device:XLA_CPU:0, XLA_CPU, 0, 0)\n"
          ],
          "name": "stderr"
        },
        {
          "output_type": "stream",
          "text": [
            "INFO:tensorflow:*** Available Device: _DeviceAttributes(/job:worker/replica:0/task:0/device:CPU:0, CPU, 0, 0)\n"
          ],
          "name": "stdout"
        },
        {
          "output_type": "stream",
          "text": [
            "INFO:tensorflow:*** Available Device: _DeviceAttributes(/job:worker/replica:0/task:0/device:CPU:0, CPU, 0, 0)\n"
          ],
          "name": "stderr"
        },
        {
          "output_type": "stream",
          "text": [
            "INFO:tensorflow:*** Available Device: _DeviceAttributes(/job:worker/replica:0/task:0/device:TPU:0, TPU, 0, 0)\n"
          ],
          "name": "stdout"
        },
        {
          "output_type": "stream",
          "text": [
            "INFO:tensorflow:*** Available Device: _DeviceAttributes(/job:worker/replica:0/task:0/device:TPU:0, TPU, 0, 0)\n"
          ],
          "name": "stderr"
        },
        {
          "output_type": "stream",
          "text": [
            "INFO:tensorflow:*** Available Device: _DeviceAttributes(/job:worker/replica:0/task:0/device:TPU:1, TPU, 0, 0)\n"
          ],
          "name": "stdout"
        },
        {
          "output_type": "stream",
          "text": [
            "INFO:tensorflow:*** Available Device: _DeviceAttributes(/job:worker/replica:0/task:0/device:TPU:1, TPU, 0, 0)\n"
          ],
          "name": "stderr"
        },
        {
          "output_type": "stream",
          "text": [
            "INFO:tensorflow:*** Available Device: _DeviceAttributes(/job:worker/replica:0/task:0/device:TPU:2, TPU, 0, 0)\n"
          ],
          "name": "stdout"
        },
        {
          "output_type": "stream",
          "text": [
            "INFO:tensorflow:*** Available Device: _DeviceAttributes(/job:worker/replica:0/task:0/device:TPU:2, TPU, 0, 0)\n"
          ],
          "name": "stderr"
        },
        {
          "output_type": "stream",
          "text": [
            "INFO:tensorflow:*** Available Device: _DeviceAttributes(/job:worker/replica:0/task:0/device:TPU:3, TPU, 0, 0)\n"
          ],
          "name": "stdout"
        },
        {
          "output_type": "stream",
          "text": [
            "INFO:tensorflow:*** Available Device: _DeviceAttributes(/job:worker/replica:0/task:0/device:TPU:3, TPU, 0, 0)\n"
          ],
          "name": "stderr"
        },
        {
          "output_type": "stream",
          "text": [
            "INFO:tensorflow:*** Available Device: _DeviceAttributes(/job:worker/replica:0/task:0/device:TPU:4, TPU, 0, 0)\n"
          ],
          "name": "stdout"
        },
        {
          "output_type": "stream",
          "text": [
            "INFO:tensorflow:*** Available Device: _DeviceAttributes(/job:worker/replica:0/task:0/device:TPU:4, TPU, 0, 0)\n"
          ],
          "name": "stderr"
        },
        {
          "output_type": "stream",
          "text": [
            "INFO:tensorflow:*** Available Device: _DeviceAttributes(/job:worker/replica:0/task:0/device:TPU:5, TPU, 0, 0)\n"
          ],
          "name": "stdout"
        },
        {
          "output_type": "stream",
          "text": [
            "INFO:tensorflow:*** Available Device: _DeviceAttributes(/job:worker/replica:0/task:0/device:TPU:5, TPU, 0, 0)\n"
          ],
          "name": "stderr"
        },
        {
          "output_type": "stream",
          "text": [
            "INFO:tensorflow:*** Available Device: _DeviceAttributes(/job:worker/replica:0/task:0/device:TPU:6, TPU, 0, 0)\n"
          ],
          "name": "stdout"
        },
        {
          "output_type": "stream",
          "text": [
            "INFO:tensorflow:*** Available Device: _DeviceAttributes(/job:worker/replica:0/task:0/device:TPU:6, TPU, 0, 0)\n"
          ],
          "name": "stderr"
        },
        {
          "output_type": "stream",
          "text": [
            "INFO:tensorflow:*** Available Device: _DeviceAttributes(/job:worker/replica:0/task:0/device:TPU:7, TPU, 0, 0)\n"
          ],
          "name": "stdout"
        },
        {
          "output_type": "stream",
          "text": [
            "INFO:tensorflow:*** Available Device: _DeviceAttributes(/job:worker/replica:0/task:0/device:TPU:7, TPU, 0, 0)\n"
          ],
          "name": "stderr"
        },
        {
          "output_type": "stream",
          "text": [
            "INFO:tensorflow:*** Available Device: _DeviceAttributes(/job:worker/replica:0/task:0/device:TPU_SYSTEM:0, TPU_SYSTEM, 0, 0)\n"
          ],
          "name": "stdout"
        },
        {
          "output_type": "stream",
          "text": [
            "INFO:tensorflow:*** Available Device: _DeviceAttributes(/job:worker/replica:0/task:0/device:TPU_SYSTEM:0, TPU_SYSTEM, 0, 0)\n"
          ],
          "name": "stderr"
        },
        {
          "output_type": "stream",
          "text": [
            "INFO:tensorflow:*** Available Device: _DeviceAttributes(/job:worker/replica:0/task:0/device:XLA_CPU:0, XLA_CPU, 0, 0)\n"
          ],
          "name": "stdout"
        },
        {
          "output_type": "stream",
          "text": [
            "INFO:tensorflow:*** Available Device: _DeviceAttributes(/job:worker/replica:0/task:0/device:XLA_CPU:0, XLA_CPU, 0, 0)\n"
          ],
          "name": "stderr"
        }
      ]
    },
    {
      "cell_type": "code",
      "metadata": {
        "id": "0ArpfMtX4SWl",
        "colab_type": "code",
        "colab": {}
      },
      "source": [
        "def create_model():\n",
        "  model = Sequential()\n",
        "  model.add(Embedding(vocab_size, 200, input_length=max_length))\n",
        "  model.add(Bidirectional(LSTM(100 , return_sequences=True)))\n",
        "  model.add(Dropout(0.5))\n",
        "  model.add(Bidirectional(LSTM(100)))\n",
        "  model.add(Dropout(0.5))\n",
        "  model.add(tf.keras.layers.Dense(100, activation='relu',kernel_regularizer=tf.keras.regularizers.l2(0.001)))\n",
        "  model.add(Dropout(0.5))\n",
        "  model.add(tf.keras.layers.Dense(100, activation='relu',kernel_regularizer=tf.keras.regularizers.l2(0.001)))\n",
        "  model.add(Dense(3, activation='softmax'))\n",
        "  return model"
      ],
      "execution_count": 109,
      "outputs": []
    },
    {
      "cell_type": "code",
      "metadata": {
        "id": "dEmq9toz4XeD",
        "colab_type": "code",
        "colab": {}
      },
      "source": [
        "with tpu_strategy.scope():\n",
        "  model = create_model()\n",
        "  model.compile(loss = 'categorical_crossentropy',optimizer = tf.keras.optimizers.Adam(),metrics = ['accuracy'])\n",
        "training_labels_final = (tf.keras.utils.to_categorical(training_labels, num_classes=3, dtype='float32'))"
      ],
      "execution_count": 110,
      "outputs": []
    },
    {
      "cell_type": "code",
      "metadata": {
        "id": "4MPqkFs34ZlL",
        "colab_type": "code",
        "colab": {
          "base_uri": "https://localhost:8080/",
          "height": 1000
        },
        "outputId": "18342fca-7e26-419b-c3ca-450b93da1a95"
      },
      "source": [
        "model.fit(training_padded,training_labels_final,epochs=50,validation_split=0.8,batch_size=100)\n"
      ],
      "execution_count": 111,
      "outputs": [
        {
          "output_type": "stream",
          "text": [
            "Epoch 1/50\n",
            "30/30 [==============================] - 8s 255ms/step - loss: 1.1103 - accuracy: 0.6423 - val_loss: 1.0332 - val_accuracy: 0.6378\n",
            "Epoch 2/50\n",
            "30/30 [==============================] - 3s 92ms/step - loss: 0.8799 - accuracy: 0.6812 - val_loss: 0.9058 - val_accuracy: 0.6608\n",
            "Epoch 3/50\n",
            "30/30 [==============================] - 3s 94ms/step - loss: 0.6564 - accuracy: 0.7595 - val_loss: 0.9740 - val_accuracy: 0.7073\n",
            "Epoch 4/50\n",
            "30/30 [==============================] - 3s 93ms/step - loss: 0.4992 - accuracy: 0.8196 - val_loss: 0.9871 - val_accuracy: 0.7026\n",
            "Epoch 5/50\n",
            "30/30 [==============================] - 3s 93ms/step - loss: 0.4312 - accuracy: 0.8480 - val_loss: 1.3010 - val_accuracy: 0.6693\n",
            "Epoch 6/50\n",
            "30/30 [==============================] - 3s 92ms/step - loss: 0.3852 - accuracy: 0.8801 - val_loss: 1.1571 - val_accuracy: 0.7037\n",
            "Epoch 7/50\n",
            "30/30 [==============================] - 3s 89ms/step - loss: 0.3212 - accuracy: 0.9163 - val_loss: 1.3165 - val_accuracy: 0.6984\n",
            "Epoch 8/50\n",
            "30/30 [==============================] - 3s 89ms/step - loss: 0.2556 - accuracy: 0.9412 - val_loss: 1.5199 - val_accuracy: 0.6923\n",
            "Epoch 9/50\n",
            "30/30 [==============================] - 3s 90ms/step - loss: 0.1859 - accuracy: 0.9703 - val_loss: 1.6341 - val_accuracy: 0.6856\n",
            "Epoch 10/50\n",
            "30/30 [==============================] - 3s 90ms/step - loss: 0.1555 - accuracy: 0.9764 - val_loss: 1.6342 - val_accuracy: 0.7012\n",
            "Epoch 11/50\n",
            "30/30 [==============================] - 3s 90ms/step - loss: 0.1187 - accuracy: 0.9874 - val_loss: 1.8656 - val_accuracy: 0.6967\n",
            "Epoch 12/50\n",
            "30/30 [==============================] - 3s 90ms/step - loss: 0.0951 - accuracy: 0.9932 - val_loss: 1.9353 - val_accuracy: 0.7060\n",
            "Epoch 13/50\n",
            "30/30 [==============================] - 3s 91ms/step - loss: 0.0912 - accuracy: 0.9932 - val_loss: 2.1837 - val_accuracy: 0.6911\n",
            "Epoch 14/50\n",
            "30/30 [==============================] - 3s 92ms/step - loss: 0.1204 - accuracy: 0.9853 - val_loss: 1.5823 - val_accuracy: 0.6940\n",
            "Epoch 15/50\n",
            "30/30 [==============================] - 3s 91ms/step - loss: 0.1033 - accuracy: 0.9870 - val_loss: 1.5307 - val_accuracy: 0.7180\n",
            "Epoch 16/50\n",
            "30/30 [==============================] - 3s 92ms/step - loss: 0.0896 - accuracy: 0.9877 - val_loss: 1.6707 - val_accuracy: 0.6870\n",
            "Epoch 17/50\n",
            "30/30 [==============================] - 3s 92ms/step - loss: 0.0886 - accuracy: 0.9904 - val_loss: 1.7565 - val_accuracy: 0.6769\n",
            "Epoch 18/50\n",
            "30/30 [==============================] - 4s 142ms/step - loss: 0.0884 - accuracy: 0.9880 - val_loss: 1.4443 - val_accuracy: 0.7077\n",
            "Epoch 19/50\n",
            "30/30 [==============================] - 3s 91ms/step - loss: 0.0623 - accuracy: 0.9952 - val_loss: 1.6398 - val_accuracy: 0.7005\n",
            "Epoch 20/50\n",
            "30/30 [==============================] - 3s 91ms/step - loss: 0.0570 - accuracy: 0.9956 - val_loss: 1.7889 - val_accuracy: 0.7143\n",
            "Epoch 21/50\n",
            "30/30 [==============================] - 3s 90ms/step - loss: 0.0562 - accuracy: 0.9942 - val_loss: 1.8452 - val_accuracy: 0.6827\n",
            "Epoch 22/50\n",
            "30/30 [==============================] - 3s 90ms/step - loss: 0.0545 - accuracy: 0.9945 - val_loss: 1.8331 - val_accuracy: 0.6893\n",
            "Epoch 23/50\n",
            "30/30 [==============================] - 3s 93ms/step - loss: 0.0503 - accuracy: 0.9942 - val_loss: 1.7468 - val_accuracy: 0.7111\n",
            "Epoch 24/50\n",
            "30/30 [==============================] - 3s 90ms/step - loss: 0.0522 - accuracy: 0.9935 - val_loss: 1.6022 - val_accuracy: 0.6862\n",
            "Epoch 25/50\n",
            "30/30 [==============================] - 3s 91ms/step - loss: 0.0480 - accuracy: 0.9942 - val_loss: 1.7851 - val_accuracy: 0.7023\n",
            "Epoch 26/50\n",
            "30/30 [==============================] - 3s 91ms/step - loss: 0.0340 - accuracy: 0.9983 - val_loss: 1.9587 - val_accuracy: 0.7006\n",
            "Epoch 27/50\n",
            "30/30 [==============================] - 3s 90ms/step - loss: 0.0296 - accuracy: 0.9986 - val_loss: 2.0183 - val_accuracy: 0.6985\n",
            "Epoch 28/50\n",
            "30/30 [==============================] - 3s 91ms/step - loss: 0.0390 - accuracy: 0.9942 - val_loss: 1.8571 - val_accuracy: 0.7053\n",
            "Epoch 29/50\n",
            "30/30 [==============================] - 3s 90ms/step - loss: 0.0388 - accuracy: 0.9945 - val_loss: 1.7438 - val_accuracy: 0.7000\n",
            "Epoch 30/50\n",
            "30/30 [==============================] - 3s 90ms/step - loss: 0.0354 - accuracy: 0.9962 - val_loss: 1.6776 - val_accuracy: 0.7027\n",
            "Epoch 31/50\n",
            "30/30 [==============================] - 3s 92ms/step - loss: 0.0278 - accuracy: 0.9983 - val_loss: 1.8657 - val_accuracy: 0.6890\n",
            "Epoch 32/50\n",
            "30/30 [==============================] - 3s 91ms/step - loss: 0.0259 - accuracy: 0.9973 - val_loss: 1.8602 - val_accuracy: 0.7053\n",
            "Epoch 33/50\n",
            "30/30 [==============================] - 3s 93ms/step - loss: 0.0247 - accuracy: 0.9976 - val_loss: 1.9129 - val_accuracy: 0.7072\n",
            "Epoch 34/50\n",
            "30/30 [==============================] - 3s 93ms/step - loss: 0.0309 - accuracy: 0.9966 - val_loss: 1.8298 - val_accuracy: 0.6957\n",
            "Epoch 35/50\n",
            "30/30 [==============================] - 3s 93ms/step - loss: 0.0320 - accuracy: 0.9952 - val_loss: 1.8145 - val_accuracy: 0.6855\n",
            "Epoch 36/50\n",
            "30/30 [==============================] - 3s 91ms/step - loss: 0.0345 - accuracy: 0.9949 - val_loss: 1.7040 - val_accuracy: 0.6985\n",
            "Epoch 37/50\n",
            "30/30 [==============================] - 3s 92ms/step - loss: 0.0260 - accuracy: 0.9973 - val_loss: 1.8600 - val_accuracy: 0.7008\n",
            "Epoch 38/50\n",
            "30/30 [==============================] - 3s 91ms/step - loss: 0.0210 - accuracy: 0.9983 - val_loss: 1.9169 - val_accuracy: 0.7044\n",
            "Epoch 39/50\n",
            "30/30 [==============================] - 3s 90ms/step - loss: 0.0188 - accuracy: 0.9993 - val_loss: 2.0294 - val_accuracy: 0.6978\n",
            "Epoch 40/50\n",
            "30/30 [==============================] - 3s 92ms/step - loss: 0.0206 - accuracy: 0.9983 - val_loss: 1.9738 - val_accuracy: 0.6982\n",
            "Epoch 41/50\n",
            "30/30 [==============================] - 3s 97ms/step - loss: 0.0197 - accuracy: 0.9983 - val_loss: 1.9048 - val_accuracy: 0.7002\n",
            "Epoch 42/50\n",
            "30/30 [==============================] - 3s 99ms/step - loss: 0.0168 - accuracy: 0.9986 - val_loss: 2.0292 - val_accuracy: 0.6975\n",
            "Epoch 43/50\n",
            "30/30 [==============================] - 3s 97ms/step - loss: 0.0176 - accuracy: 0.9983 - val_loss: 1.9824 - val_accuracy: 0.7152\n",
            "Epoch 44/50\n",
            "30/30 [==============================] - 3s 92ms/step - loss: 0.0162 - accuracy: 0.9986 - val_loss: 2.0850 - val_accuracy: 0.7146\n",
            "Epoch 45/50\n",
            "30/30 [==============================] - 3s 92ms/step - loss: 0.0320 - accuracy: 0.9942 - val_loss: 1.8270 - val_accuracy: 0.6768\n",
            "Epoch 46/50\n",
            "30/30 [==============================] - 3s 91ms/step - loss: 0.0180 - accuracy: 0.9980 - val_loss: 2.0761 - val_accuracy: 0.6994\n",
            "Epoch 47/50\n",
            "30/30 [==============================] - 3s 91ms/step - loss: 0.0208 - accuracy: 0.9980 - val_loss: 2.0023 - val_accuracy: 0.6745\n",
            "Epoch 48/50\n",
            "30/30 [==============================] - 3s 92ms/step - loss: 0.0238 - accuracy: 0.9969 - val_loss: 2.0376 - val_accuracy: 0.7086\n",
            "Epoch 49/50\n",
            "30/30 [==============================] - 3s 91ms/step - loss: 0.0424 - accuracy: 0.9918 - val_loss: 1.4624 - val_accuracy: 0.7047\n",
            "Epoch 50/50\n",
            "30/30 [==============================] - 3s 91ms/step - loss: 0.0471 - accuracy: 0.9904 - val_loss: 1.8531 - val_accuracy: 0.6772\n"
          ],
          "name": "stdout"
        },
        {
          "output_type": "execute_result",
          "data": {
            "text/plain": [
              "<tensorflow.python.keras.callbacks.History at 0x7fb60b274240>"
            ]
          },
          "metadata": {
            "tags": []
          },
          "execution_count": 111
        }
      ]
    },
    {
      "cell_type": "code",
      "metadata": {
        "id": "p81aB12M7GGo",
        "colab_type": "code",
        "colab": {}
      },
      "source": [
        "tokenize = Tokenizer()\n",
        "Test = [\"@Emirates i dont know what to eat today\"]\n",
        "tokenize.fit_on_texts(Test)\n",
        "sequence = tokenizer.texts_to_sequences(Test)\n",
        "padde = pad_sequences(sequence,maxlen=max_sequence_len-1, truncating = 'post')\n",
        "predictions = model.predict(padde)\n",
        "classes = np.argmax(predictions, axis=1)\n",
        "print(classes)"
      ],
      "execution_count": null,
      "outputs": []
    }
  ]
}